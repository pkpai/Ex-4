{
 "cells": [
  {
   "cell_type": "markdown",
   "metadata": {},
   "source": [
    "# Hands-on Lab --- Churn Modeling"
   ]
  },
  {
   "cell_type": "markdown",
   "metadata": {},
   "source": [
    "## Importing some standard packages, as well as packages needed for modeling:"
   ]
  },
  {
   "cell_type": "code",
   "execution_count": 1,
   "metadata": {},
   "outputs": [],
   "source": [
    "import numpy as np\n",
    "import pandas as pd\n",
    "import sklearn as sk\n",
    "import matplotlib.pyplot as plt\n",
    "\n",
    "from sklearn.model_selection import train_test_split\n",
    "from sklearn.ensemble import (RandomForestRegressor, ExtraTreesRegressor, GradientBoostingRegressor,\n",
    "RandomForestClassifier, ExtraTreesClassifier, GradientBoostingClassifier, AdaBoostClassifier)\n",
    "from sklearn import linear_model\n",
    "from sklearn.metrics import mean_squared_error\n",
    "from sklearn import metrics\n",
    "\n",
    "from sklearn.feature_selection import SelectFromModel\n",
    "\n",
    "import statsmodels.api as sm"
   ]
  },
  {
   "cell_type": "markdown",
   "metadata": {},
   "source": [
    "## import modeling data created in the Data Prep pipeline"
   ]
  },
  {
   "cell_type": "code",
   "execution_count": 2,
   "metadata": {},
   "outputs": [],
   "source": [
    "combined_df = pd.read_csv('E:\\OSU_CLV_Course\\All_NEW_Fall_2018\\Lab\\combined_data.csv')"
   ]
  },
  {
   "cell_type": "markdown",
   "metadata": {},
   "source": [
    "## Using the head method to preview our data:"
   ]
  },
  {
   "cell_type": "code",
   "execution_count": 3,
   "metadata": {},
   "outputs": [
    {
     "data": {
      "text/html": [
       "<div>\n",
       "<style scoped>\n",
       "    .dataframe tbody tr th:only-of-type {\n",
       "        vertical-align: middle;\n",
       "    }\n",
       "\n",
       "    .dataframe tbody tr th {\n",
       "        vertical-align: top;\n",
       "    }\n",
       "\n",
       "    .dataframe thead th {\n",
       "        text-align: right;\n",
       "    }\n",
       "</style>\n",
       "<table border=\"1\" class=\"dataframe\">\n",
       "  <thead>\n",
       "    <tr style=\"text-align: right;\">\n",
       "      <th></th>\n",
       "      <th>ST</th>\n",
       "      <th>Zip</th>\n",
       "      <th>DMA</th>\n",
       "      <th>Area_Cd</th>\n",
       "      <th>emailable</th>\n",
       "      <th>solicit_ph_ind</th>\n",
       "      <th>solicit_email_ind</th>\n",
       "      <th>fixd_incm_flg</th>\n",
       "      <th>scheduled_purchase_flg</th>\n",
       "      <th>months_since_last_trans</th>\n",
       "      <th>...</th>\n",
       "      <th>tier_2-Silver</th>\n",
       "      <th>tier_3-Gold</th>\n",
       "      <th>tier_4-Platinum</th>\n",
       "      <th>tier_5-Diamond</th>\n",
       "      <th>tier_prev_1-Bronze</th>\n",
       "      <th>tier_prev_2-Silver</th>\n",
       "      <th>tier_prev_3-Gold</th>\n",
       "      <th>tier_prev_4-Platinum</th>\n",
       "      <th>tier_prev_5-Diamond</th>\n",
       "      <th>tier_prev_xxx</th>\n",
       "    </tr>\n",
       "  </thead>\n",
       "  <tbody>\n",
       "    <tr>\n",
       "      <th>0</th>\n",
       "      <td>VA</td>\n",
       "      <td>23464</td>\n",
       "      <td>544</td>\n",
       "      <td>missing</td>\n",
       "      <td>0</td>\n",
       "      <td>0</td>\n",
       "      <td>1</td>\n",
       "      <td>0</td>\n",
       "      <td>0</td>\n",
       "      <td>2</td>\n",
       "      <td>...</td>\n",
       "      <td>0</td>\n",
       "      <td>1</td>\n",
       "      <td>0</td>\n",
       "      <td>0</td>\n",
       "      <td>0</td>\n",
       "      <td>0</td>\n",
       "      <td>0</td>\n",
       "      <td>0</td>\n",
       "      <td>0</td>\n",
       "      <td>1</td>\n",
       "    </tr>\n",
       "    <tr>\n",
       "      <th>1</th>\n",
       "      <td>NC</td>\n",
       "      <td>27542</td>\n",
       "      <td>560</td>\n",
       "      <td>919</td>\n",
       "      <td>1</td>\n",
       "      <td>1</td>\n",
       "      <td>1</td>\n",
       "      <td>0</td>\n",
       "      <td>0</td>\n",
       "      <td>4</td>\n",
       "      <td>...</td>\n",
       "      <td>0</td>\n",
       "      <td>0</td>\n",
       "      <td>0</td>\n",
       "      <td>1</td>\n",
       "      <td>0</td>\n",
       "      <td>0</td>\n",
       "      <td>1</td>\n",
       "      <td>0</td>\n",
       "      <td>0</td>\n",
       "      <td>0</td>\n",
       "    </tr>\n",
       "    <tr>\n",
       "      <th>2</th>\n",
       "      <td>NV</td>\n",
       "      <td>89109</td>\n",
       "      <td>839</td>\n",
       "      <td>702</td>\n",
       "      <td>0</td>\n",
       "      <td>0</td>\n",
       "      <td>1</td>\n",
       "      <td>0</td>\n",
       "      <td>0</td>\n",
       "      <td>8</td>\n",
       "      <td>...</td>\n",
       "      <td>0</td>\n",
       "      <td>0</td>\n",
       "      <td>0</td>\n",
       "      <td>0</td>\n",
       "      <td>0</td>\n",
       "      <td>0</td>\n",
       "      <td>0</td>\n",
       "      <td>0</td>\n",
       "      <td>0</td>\n",
       "      <td>1</td>\n",
       "    </tr>\n",
       "    <tr>\n",
       "      <th>3</th>\n",
       "      <td>OH</td>\n",
       "      <td>43050</td>\n",
       "      <td>535</td>\n",
       "      <td>614</td>\n",
       "      <td>0</td>\n",
       "      <td>1</td>\n",
       "      <td>1</td>\n",
       "      <td>0</td>\n",
       "      <td>0</td>\n",
       "      <td>1</td>\n",
       "      <td>...</td>\n",
       "      <td>0</td>\n",
       "      <td>0</td>\n",
       "      <td>0</td>\n",
       "      <td>0</td>\n",
       "      <td>0</td>\n",
       "      <td>0</td>\n",
       "      <td>0</td>\n",
       "      <td>0</td>\n",
       "      <td>0</td>\n",
       "      <td>1</td>\n",
       "    </tr>\n",
       "    <tr>\n",
       "      <th>4</th>\n",
       "      <td>HI</td>\n",
       "      <td>96789</td>\n",
       "      <td>744</td>\n",
       "      <td>808</td>\n",
       "      <td>1</td>\n",
       "      <td>1</td>\n",
       "      <td>1</td>\n",
       "      <td>0</td>\n",
       "      <td>0</td>\n",
       "      <td>4</td>\n",
       "      <td>...</td>\n",
       "      <td>0</td>\n",
       "      <td>0</td>\n",
       "      <td>1</td>\n",
       "      <td>0</td>\n",
       "      <td>0</td>\n",
       "      <td>0</td>\n",
       "      <td>1</td>\n",
       "      <td>0</td>\n",
       "      <td>0</td>\n",
       "      <td>0</td>\n",
       "    </tr>\n",
       "  </tbody>\n",
       "</table>\n",
       "<p>5 rows × 111 columns</p>\n",
       "</div>"
      ],
      "text/plain": [
       "   ST    Zip  DMA  Area_Cd  emailable  solicit_ph_ind  solicit_email_ind  \\\n",
       "0  VA  23464  544  missing          0               0                  1   \n",
       "1  NC  27542  560      919          1               1                  1   \n",
       "2  NV  89109  839      702          0               0                  1   \n",
       "3  OH  43050  535      614          0               1                  1   \n",
       "4  HI  96789  744      808          1               1                  1   \n",
       "\n",
       "   fixd_incm_flg  scheduled_purchase_flg  months_since_last_trans  \\\n",
       "0              0                       0                        2   \n",
       "1              0                       0                        4   \n",
       "2              0                       0                        8   \n",
       "3              0                       0                        1   \n",
       "4              0                       0                        4   \n",
       "\n",
       "       ...       tier_2-Silver  tier_3-Gold  tier_4-Platinum  tier_5-Diamond  \\\n",
       "0      ...                   0            1                0               0   \n",
       "1      ...                   0            0                0               1   \n",
       "2      ...                   0            0                0               0   \n",
       "3      ...                   0            0                0               0   \n",
       "4      ...                   0            0                1               0   \n",
       "\n",
       "   tier_prev_1-Bronze tier_prev_2-Silver tier_prev_3-Gold  \\\n",
       "0                   0                  0                0   \n",
       "1                   0                  0                1   \n",
       "2                   0                  0                0   \n",
       "3                   0                  0                0   \n",
       "4                   0                  0                1   \n",
       "\n",
       "  tier_prev_4-Platinum tier_prev_5-Diamond tier_prev_xxx  \n",
       "0                    0                   0             1  \n",
       "1                    0                   0             0  \n",
       "2                    0                   0             1  \n",
       "3                    0                   0             1  \n",
       "4                    0                   0             0  \n",
       "\n",
       "[5 rows x 111 columns]"
      ]
     },
     "execution_count": 3,
     "metadata": {},
     "output_type": "execute_result"
    }
   ],
   "source": [
    "combined_df.head()"
   ]
  },
  {
   "cell_type": "markdown",
   "metadata": {},
   "source": [
    "## Doing some basic exploratory analysis:"
   ]
  },
  {
   "cell_type": "code",
   "execution_count": 4,
   "metadata": {},
   "outputs": [
    {
     "name": "stdout",
     "output_type": "stream",
     "text": [
      " \n",
      "averages by churn ind\n",
      " \n",
      "churn_year_plus1_ind\n",
      "0    2.996748\n",
      "1    2.484007\n",
      "Name: log_purch_amt_life, dtype: float64\n",
      " \n",
      " \n",
      "churn_year_plus1_ind\n",
      "0    0.357391\n",
      "1    0.005335\n",
      "Name: scheduled_purchase_flg, dtype: float64\n",
      " \n",
      " \n",
      "churn_year_plus1_ind\n",
      "0    1.759717\n",
      "1    6.113851\n",
      "Name: months_since_last_trans, dtype: float64\n"
     ]
    }
   ],
   "source": [
    "\"\"\" Analyzing average values of numeric variables, by the levels of the binary target variable \"\"\"\n",
    "print(\" \") \n",
    "print(\"averages by churn ind\")\n",
    "print(\" \") \n",
    "print(combined_df.groupby('churn_year_plus1_ind')['log_purch_amt_life'].mean())\n",
    "\n",
    "print(\" \") \n",
    "print(\" \") \n",
    "print(combined_df.groupby('churn_year_plus1_ind')['scheduled_purchase_flg'].mean())\n",
    "\n",
    "print(\" \") \n",
    "print(\" \") \n",
    "print(combined_df.groupby('churn_year_plus1_ind')['months_since_last_trans'].mean())"
   ]
  },
  {
   "cell_type": "code",
   "execution_count": 5,
   "metadata": {},
   "outputs": [
    {
     "data": {
      "text/plain": [
       "<matplotlib.axes._subplots.AxesSubplot at 0x1f744a49080>"
      ]
     },
     "execution_count": 5,
     "metadata": {},
     "output_type": "execute_result"
    },
    {
     "data": {
      "image/png": "[encoded data removed]",
      "text/plain": [
       "<Figure size 1080x1080 with 1 Axes>"
      ]
     },
     "metadata": {},
     "output_type": "display_data"
    }
   ],
   "source": [
    "\"\"\" A boxplot to investigate the distribution of numeric variables by the levels of the target \"\"\"\n",
    "\n",
    "combined_df.boxplot(column='log_order_cnt_36mo', by='churn_year_plus1_ind',figsize=(15,15))"
   ]
  },
  {
   "cell_type": "markdown",
   "metadata": {},
   "source": [
    "## Printing variable stats:"
   ]
  },
  {
   "cell_type": "code",
   "execution_count": 6,
   "metadata": {},
   "outputs": [
    {
     "name": "stdout",
     "output_type": "stream",
     "text": [
      " summary stats on combined data \n",
      "                          count unique         top   freq         mean  \\\n",
      "ST                        73384     59          CA   6641          NaN   \n",
      "Zip                       73384  18351     missing    282          NaN   \n",
      "DMA                       73384    216         803   3012          NaN   \n",
      "Area_Cd                   73384    328     missing   3849          NaN   \n",
      "emailable                 73384    NaN         NaN    NaN      0.51777   \n",
      "solicit_ph_ind            73384    NaN         NaN    NaN     0.891557   \n",
      "solicit_email_ind         73384    NaN         NaN    NaN     0.963752   \n",
      "fixd_incm_flg             73384    NaN         NaN    NaN    0.0919138   \n",
      "scheduled_purchase_flg    73384    NaN         NaN    NaN     0.264772   \n",
      "months_since_last_trans   73384    NaN         NaN    NaN      2.90521   \n",
      "months_since_first_trans  73384    NaN         NaN    NaN      65.3361   \n",
      "purch_avg_interval        73384    NaN         NaN    NaN       4.8528   \n",
      "mail_cnt_36mo             73384    NaN         NaN    NaN       19.053   \n",
      "call_in_mo_36mo           73384    NaN         NaN    NaN      7.76498   \n",
      "call_out_mo_36mo          73384    NaN         NaN    NaN      2.27469   \n",
      "tier                      73384      5    1-Bronze  46991          NaN   \n",
      "tier_prev                 73384      6         xxx  49556          NaN   \n",
      "acct_ID                   73384  73384  H132184705      1          NaN   \n",
      "activation_date           73384    200     06JUL00   5294          NaN   \n",
      "event_date                19306     12     31JUL15   2153          NaN   \n",
      "churn_year_plus1_ind      73384    NaN         NaN    NaN     0.263082   \n",
      "log_order_cnt_36mo        73384    NaN         NaN    NaN     0.737573   \n",
      "log_purch_amt_36mo        73384    NaN         NaN    NaN       2.6052   \n",
      "log_purch_amt_life        73384    NaN         NaN    NaN      2.86185   \n",
      "log_purch_avg_36mo        73384    NaN         NaN    NaN      1.54119   \n",
      "log_purch_cnt_life        73384    NaN         NaN    NaN       1.3989   \n",
      "log_purch_cnt_tt_36mo     73384    NaN         NaN    NaN      1.14105   \n",
      "log_resp_cnt_36mo         73384    NaN         NaN    NaN     0.325583   \n",
      "perc_purch_cc_36mo        73384    NaN         NaN    NaN     0.308681   \n",
      "perc_purch_ck_36mo        73384    NaN         NaN    NaN     0.559143   \n",
      "...                         ...    ...         ...    ...          ...   \n",
      "ST_OH                     73384    NaN         NaN    NaN    0.0387414   \n",
      "ST_OK                     73384    NaN         NaN    NaN    0.0147989   \n",
      "ST_OR                     73384    NaN         NaN    NaN    0.0242696   \n",
      "ST_PA                     73384    NaN         NaN    NaN    0.0507468   \n",
      "ST_PR                     73384    NaN         NaN    NaN  0.000449689   \n",
      "ST_RI                     73384    NaN         NaN    NaN   0.00410171   \n",
      "ST_SC                     73384    NaN         NaN    NaN    0.0186689   \n",
      "ST_SD                     73384    NaN         NaN    NaN    0.0024256   \n",
      "ST_TN                     73384    NaN         NaN    NaN     0.028821   \n",
      "ST_TX                     73384    NaN         NaN    NaN    0.0890385   \n",
      "ST_UT                     73384    NaN         NaN    NaN    0.0014172   \n",
      "ST_VA                     73384    NaN         NaN    NaN    0.0436335   \n",
      "ST_VI                     73384    NaN         NaN    NaN  0.000258912   \n",
      "ST_VT                     73384    NaN         NaN    NaN  0.000735855   \n",
      "ST_WA                     73384    NaN         NaN    NaN    0.0268451   \n",
      "ST_WI                     73384    NaN         NaN    NaN    0.0125368   \n",
      "ST_WV                     73384    NaN         NaN    NaN    0.0085441   \n",
      "ST_WY                     73384    NaN         NaN    NaN   0.00201679   \n",
      "ST_missing                73384    NaN         NaN    NaN    0.0040472   \n",
      "tier_1-Bronze             73384    NaN         NaN    NaN     0.640344   \n",
      "tier_2-Silver             73384    NaN         NaN    NaN     0.203287   \n",
      "tier_3-Gold               73384    NaN         NaN    NaN     0.112954   \n",
      "tier_4-Platinum           73384    NaN         NaN    NaN    0.0233975   \n",
      "tier_5-Diamond            73384    NaN         NaN    NaN     0.020018   \n",
      "tier_prev_1-Bronze        73384    NaN         NaN    NaN     0.210836   \n",
      "tier_prev_2-Silver        73384    NaN         NaN    NaN     0.064033   \n",
      "tier_prev_3-Gold          73384    NaN         NaN    NaN    0.0328001   \n",
      "tier_prev_4-Platinum      73384    NaN         NaN    NaN    0.0109833   \n",
      "tier_prev_5-Diamond       73384    NaN         NaN    NaN   0.00605037   \n",
      "tier_prev_xxx             73384    NaN         NaN    NaN     0.675297   \n",
      "\n",
      "                                std      min       25%      50%       75%  \\\n",
      "ST                              NaN      NaN       NaN      NaN       NaN   \n",
      "Zip                             NaN      NaN       NaN      NaN       NaN   \n",
      "DMA                             NaN      NaN       NaN      NaN       NaN   \n",
      "Area_Cd                         NaN      NaN       NaN      NaN       NaN   \n",
      "emailable                  0.499688        0         0        1         1   \n",
      "solicit_ph_ind             0.310942        0         1        1         1   \n",
      "solicit_email_ind          0.186907        0         1        1         1   \n",
      "fixd_incm_flg              0.288906        0         0        0         0   \n",
      "scheduled_purchase_flg     0.441215        0         0        0         1   \n",
      "months_since_last_trans     3.09822        1         1        1         4   \n",
      "months_since_first_trans    58.0624        1        14       46       109   \n",
      "purch_avg_interval          9.95488        0         1     1.21      2.56   \n",
      "mail_cnt_36mo               14.8106        0         6       16        33   \n",
      "call_in_mo_36mo             45.5852        0         0        0         3   \n",
      "call_out_mo_36mo            2.37087        0         1        2         3   \n",
      "tier                            NaN      NaN       NaN      NaN       NaN   \n",
      "tier_prev                       NaN      NaN       NaN      NaN       NaN   \n",
      "acct_ID                         NaN      NaN       NaN      NaN       NaN   \n",
      "activation_date                 NaN      NaN       NaN      NaN       NaN   \n",
      "event_date                      NaN      NaN       NaN      NaN       NaN   \n",
      "churn_year_plus1_ind       0.440309        0         0        0         1   \n",
      "log_order_cnt_36mo         0.290182        0   0.60206  0.69897   0.90309   \n",
      "log_purch_amt_36mo         0.646768        0   2.20683  2.70842   3.02572   \n",
      "log_purch_amt_life         0.794047        0   2.34439  2.90902   3.42667   \n",
      "log_purch_avg_36mo         0.351847        0   1.32222  1.41814   1.67825   \n",
      "log_purch_cnt_life         0.602717  0.30103  0.954243  1.43136   1.86923   \n",
      "log_purch_cnt_tt_36mo      0.428158        0  0.845098  1.23045   1.53148   \n",
      "log_resp_cnt_36mo           0.45183        0         0        0   0.60206   \n",
      "perc_purch_cc_36mo         0.439768        0         0        0  0.933333   \n",
      "perc_purch_ck_36mo         0.469582        0         0    0.925         1   \n",
      "...                             ...      ...       ...      ...       ...   \n",
      "ST_OH                      0.192979        0         0        0         0   \n",
      "ST_OK                      0.120748        0         0        0         0   \n",
      "ST_OR                      0.153886        0         0        0         0   \n",
      "ST_PA                      0.219482        0         0        0         0   \n",
      "ST_PR                     0.0212013        0         0        0         0   \n",
      "ST_RI                     0.0639136        0         0        0         0   \n",
      "ST_SC                      0.135354        0         0        0         0   \n",
      "ST_SD                     0.0491909        0         0        0         0   \n",
      "ST_TN                      0.167304        0         0        0         0   \n",
      "ST_TX                      0.284801        0         0        0         0   \n",
      "ST_UT                     0.0376193        0         0        0         0   \n",
      "ST_VA                       0.20428        0         0        0         0   \n",
      "ST_VI                     0.0160888        0         0        0         0   \n",
      "ST_VT                     0.0271169        0         0        0         0   \n",
      "ST_WA                      0.161632        0         0        0         0   \n",
      "ST_WI                      0.111265        0         0        0         0   \n",
      "ST_WV                     0.0920392        0         0        0         0   \n",
      "ST_WY                     0.0448637        0         0        0         0   \n",
      "ST_missing                0.0634892        0         0        0         0   \n",
      "tier_1-Bronze              0.479903        0         0        1         1   \n",
      "tier_2-Silver              0.402447        0         0        0         0   \n",
      "tier_3-Gold                0.316538        0         0        0         0   \n",
      "tier_4-Platinum            0.151163        0         0        0         0   \n",
      "tier_5-Diamond             0.140063        0         0        0         0   \n",
      "tier_prev_1-Bronze         0.407905        0         0        0         0   \n",
      "tier_prev_2-Silver         0.244813        0         0        0         0   \n",
      "tier_prev_3-Gold           0.178114        0         0        0         0   \n",
      "tier_prev_4-Platinum       0.104225        0         0        0         0   \n",
      "tier_prev_5-Diamond        0.077549        0         0        0         0   \n",
      "tier_prev_xxx              0.468267        0         0        1         1   \n",
      "\n",
      "                              max  \n",
      "ST                            NaN  \n",
      "Zip                           NaN  \n",
      "DMA                           NaN  \n",
      "Area_Cd                       NaN  \n",
      "emailable                       1  \n",
      "solicit_ph_ind                  1  \n",
      "solicit_email_ind               1  \n",
      "fixd_incm_flg                   1  \n",
      "scheduled_purchase_flg          1  \n",
      "months_since_last_trans        12  \n",
      "months_since_first_trans      298  \n",
      "purch_avg_interval            165  \n",
      "mail_cnt_36mo                 428  \n",
      "call_in_mo_36mo              2322  \n",
      "call_out_mo_36mo               38  \n",
      "tier                          NaN  \n",
      "tier_prev                     NaN  \n",
      "acct_ID                       NaN  \n",
      "activation_date               NaN  \n",
      "event_date                    NaN  \n",
      "churn_year_plus1_ind            1  \n",
      "log_order_cnt_36mo        2.67578  \n",
      "log_purch_amt_36mo        5.76324  \n",
      "log_purch_amt_life        6.02883  \n",
      "log_purch_avg_36mo        4.70303  \n",
      "log_purch_cnt_life        3.16495  \n",
      "log_purch_cnt_tt_36mo     2.79934  \n",
      "log_resp_cnt_36mo         2.37291  \n",
      "perc_purch_cc_36mo              1  \n",
      "perc_purch_ck_36mo              2  \n",
      "...                           ...  \n",
      "ST_OH                           1  \n",
      "ST_OK                           1  \n",
      "ST_OR                           1  \n",
      "ST_PA                           1  \n",
      "ST_PR                           1  \n",
      "ST_RI                           1  \n",
      "ST_SC                           1  \n",
      "ST_SD                           1  \n",
      "ST_TN                           1  \n",
      "ST_TX                           1  \n",
      "ST_UT                           1  \n",
      "ST_VA                           1  \n",
      "ST_VI                           1  \n",
      "ST_VT                           1  \n",
      "ST_WA                           1  \n",
      "ST_WI                           1  \n",
      "ST_WV                           1  \n",
      "ST_WY                           1  \n",
      "ST_missing                      1  \n",
      "tier_1-Bronze                   1  \n",
      "tier_2-Silver                   1  \n",
      "tier_3-Gold                     1  \n",
      "tier_4-Platinum                 1  \n",
      "tier_5-Diamond                  1  \n",
      "tier_prev_1-Bronze              1  \n",
      "tier_prev_2-Silver              1  \n",
      "tier_prev_3-Gold                1  \n",
      "tier_prev_4-Platinum            1  \n",
      "tier_prev_5-Diamond             1  \n",
      "tier_prev_xxx                   1  \n",
      "\n",
      "[111 rows x 11 columns]\n"
     ]
    }
   ],
   "source": [
    "print(\" summary stats on combined data \") \n",
    "print(combined_df.describe(include='all').transpose())"
   ]
  },
  {
   "cell_type": "markdown",
   "metadata": {},
   "source": [
    "## Dropping variables we don't want included in modeling, and creating new version of data for modeling:"
   ]
  },
  {
   "cell_type": "code",
   "execution_count": 7,
   "metadata": {},
   "outputs": [
    {
     "data": {
      "text/plain": [
       "(73384, 103)"
      ]
     },
     "execution_count": 7,
     "metadata": {},
     "output_type": "execute_result"
    }
   ],
   "source": [
    "\"\"\" Any categorical variable for which we did not create dummy indicators        \"\"\"\n",
    "\"\"\"    and other variables we don't want in the model, or which don't make sense \"\"\"\n",
    "\"\"\"    to be included in model training, we are dropping here:                   \"\"\"\n",
    "\n",
    "\"\"\" Note:  we also want to drop acct_ID, but we are going to do that after partioning \"\"\"\n",
    "\"\"\"        because we need acct_ID for partioned sets to for reference later          \"\"\"\n",
    "\n",
    "x_train_df = combined_df.drop(['Zip','DMA','Area_Cd','activation_date','event_date',\n",
    "                            'ST','tier','tier_prev'\n",
    "                              ],axis=1)\n",
    "\n",
    "x_train_df.shape"
   ]
  },
  {
   "cell_type": "markdown",
   "metadata": {},
   "source": [
    "## Partitioning data into Training and Test sets, creating X vs Y sets, and\n",
    "##     creating dataframes with just account IDs to be used to rejoin data later:"
   ]
  },
  {
   "cell_type": "code",
   "execution_count": 8,
   "metadata": {},
   "outputs": [
    {
     "data": {
      "text/plain": [
       "(51368, 99)"
      ]
     },
     "execution_count": 8,
     "metadata": {},
     "output_type": "execute_result"
    }
   ],
   "source": [
    "x_train_df, x_test_df = train_test_split(x_train_df, test_size = 0.30)\n",
    "\n",
    "\"\"\" will need the acct_IDs to rejoin data later, so pulling out now before dropping from actual model training data \"\"\"\n",
    "\n",
    "train_acct_IDs_df = x_train_df[['acct_ID']]\n",
    "test_acct_IDs_df  = x_test_df[['acct_ID']]\n",
    "\n",
    "\"\"\" the target (or dependent) variable is stored in it's own dataframe \"\"\"\n",
    "\n",
    "y_train_df = x_train_df[['churn_year_plus1_ind']]\n",
    "y_test_df  = x_test_df[['churn_year_plus1_ind']]\n",
    "\n",
    "\"\"\" and we want to drop acct_ID and the target variable from the dataframe of independent variables \"\"\"\n",
    "\"\"\" PLUS we want to drop the target (future timeframe) variables for margin modeling                \"\"\"\n",
    "\n",
    "x_train_df = x_train_df.drop(['acct_ID','churn_year_plus1_ind', 'log_margin_Y_pos_1', 'margin_Y_pos_1'\n",
    "                             ],axis=1)\n",
    "\n",
    "x_test_df = x_test_df.drop(['acct_ID','churn_year_plus1_ind', 'log_margin_Y_pos_1', 'margin_Y_pos_1'\n",
    "                             ],axis=1)\n",
    "\n",
    "x_train_df.shape"
   ]
  },
  {
   "cell_type": "markdown",
   "metadata": {},
   "source": [
    "## Starting with a scikit_learn Logistic Regression Model\n",
    "##    and using that modeling algorithm to select variables.\n",
    "\n",
    "## Note:  change the C parameter and rerun to get reasonable number of selected vars."
   ]
  },
  {
   "cell_type": "code",
   "execution_count": 9,
   "metadata": {},
   "outputs": [
    {
     "data": {
      "text/plain": [
       "(25, 1)"
      ]
     },
     "execution_count": 9,
     "metadata": {},
     "output_type": "execute_result"
    }
   ],
   "source": [
    "\"\"\" models penalized with the L1 norm have sparse solutions: many of their estimated coefficients are zero \"\"\"\n",
    "\"\"\" SelectFromModel can be used to to select effects with non-zero coefficients \"\"\"\n",
    "\"\"\" the parameter C controls the sparsity: the smaller C the fewer features selected \"\"\"\n",
    "\n",
    "\"\"\" using the ravel simply to avoid warning in log \"\"\"\n",
    "y_train_array=np.ravel(y_train_df)\n",
    "\n",
    "\"\"\" start with C = 1.0, then try 0.1, etc \"\"\"\n",
    "model1 = linear_model.LogisticRegression(C=0.01, solver='liblinear', penalty='l1', tol=0.01)\n",
    "model1_fit = model1.fit(x_train_df, y_train_array)\n",
    "model1_selects = SelectFromModel(model1_fit, prefit=True)\n",
    "\"\"\"x_train_selected_df = model1_selects.transform(x_train_df)\"\"\"\n",
    "\n",
    "\"\"\" in lieu of commented-out transform method above, can use this method to explicitly define columns to keep \"\"\"\n",
    "x_train_selected_df = x_train_df[x_train_df.columns[model1_selects.get_support()]]\n",
    "x_test_selected_df  = x_test_df[x_test_df.columns[model1_selects.get_support()]]\n",
    "\n",
    "coefficients = pd.DataFrame(model1_fit.coef_)\n",
    "coefficients = np.transpose(coefficients[coefficients.columns[model1_selects.get_support()]])\n",
    "coefficients = coefficients.reset_index(drop=True)\n",
    "\n",
    "coefficients_match = pd.concat([pd.DataFrame(x_train_selected_df.columns),coefficients], axis = 1)\n",
    "\n",
    "coefficients.shape "
   ]
  },
  {
   "cell_type": "code",
   "execution_count": 10,
   "metadata": {},
   "outputs": [
    {
     "name": "stdout",
     "output_type": "stream",
     "text": [
      " \n",
      "Coefficients for selected variables\n"
     ]
    },
    {
     "data": {
      "text/html": [
       "<div>\n",
       "<style scoped>\n",
       "    .dataframe tbody tr th:only-of-type {\n",
       "        vertical-align: middle;\n",
       "    }\n",
       "\n",
       "    .dataframe tbody tr th {\n",
       "        vertical-align: top;\n",
       "    }\n",
       "\n",
       "    .dataframe thead th {\n",
       "        text-align: right;\n",
       "    }\n",
       "</style>\n",
       "<table border=\"1\" class=\"dataframe\">\n",
       "  <thead>\n",
       "    <tr style=\"text-align: right;\">\n",
       "      <th></th>\n",
       "      <th>0</th>\n",
       "      <th>0</th>\n",
       "    </tr>\n",
       "  </thead>\n",
       "  <tbody>\n",
       "    <tr>\n",
       "      <th>0</th>\n",
       "      <td>emailable</td>\n",
       "      <td>-0.059250</td>\n",
       "    </tr>\n",
       "    <tr>\n",
       "      <th>1</th>\n",
       "      <td>scheduled_purchase_flg</td>\n",
       "      <td>-3.562582</td>\n",
       "    </tr>\n",
       "    <tr>\n",
       "      <th>2</th>\n",
       "      <td>months_since_last_trans</td>\n",
       "      <td>0.418122</td>\n",
       "    </tr>\n",
       "    <tr>\n",
       "      <th>3</th>\n",
       "      <td>months_since_first_trans</td>\n",
       "      <td>-0.004316</td>\n",
       "    </tr>\n",
       "    <tr>\n",
       "      <th>4</th>\n",
       "      <td>purch_avg_interval</td>\n",
       "      <td>0.005266</td>\n",
       "    </tr>\n",
       "    <tr>\n",
       "      <th>5</th>\n",
       "      <td>mail_cnt_36mo</td>\n",
       "      <td>-0.010414</td>\n",
       "    </tr>\n",
       "    <tr>\n",
       "      <th>6</th>\n",
       "      <td>call_in_mo_36mo</td>\n",
       "      <td>-0.001213</td>\n",
       "    </tr>\n",
       "    <tr>\n",
       "      <th>7</th>\n",
       "      <td>call_out_mo_36mo</td>\n",
       "      <td>-0.043681</td>\n",
       "    </tr>\n",
       "    <tr>\n",
       "      <th>8</th>\n",
       "      <td>log_order_cnt_36mo</td>\n",
       "      <td>-0.051082</td>\n",
       "    </tr>\n",
       "    <tr>\n",
       "      <th>9</th>\n",
       "      <td>log_purch_amt_36mo</td>\n",
       "      <td>-0.031643</td>\n",
       "    </tr>\n",
       "    <tr>\n",
       "      <th>10</th>\n",
       "      <td>log_purch_amt_life</td>\n",
       "      <td>-0.005135</td>\n",
       "    </tr>\n",
       "    <tr>\n",
       "      <th>11</th>\n",
       "      <td>log_purch_avg_36mo</td>\n",
       "      <td>-0.025195</td>\n",
       "    </tr>\n",
       "    <tr>\n",
       "      <th>12</th>\n",
       "      <td>log_purch_cnt_life</td>\n",
       "      <td>-0.146015</td>\n",
       "    </tr>\n",
       "    <tr>\n",
       "      <th>13</th>\n",
       "      <td>log_resp_cnt_36mo</td>\n",
       "      <td>-0.070148</td>\n",
       "    </tr>\n",
       "    <tr>\n",
       "      <th>14</th>\n",
       "      <td>perc_purch_ck_36mo</td>\n",
       "      <td>-0.877994</td>\n",
       "    </tr>\n",
       "    <tr>\n",
       "      <th>15</th>\n",
       "      <td>perc_purch_et_36mo</td>\n",
       "      <td>0.086901</td>\n",
       "    </tr>\n",
       "    <tr>\n",
       "      <th>16</th>\n",
       "      <td>margin_Y_neg_1</td>\n",
       "      <td>-0.000076</td>\n",
       "    </tr>\n",
       "    <tr>\n",
       "      <th>17</th>\n",
       "      <td>margin_Y_neg_2</td>\n",
       "      <td>0.000018</td>\n",
       "    </tr>\n",
       "    <tr>\n",
       "      <th>18</th>\n",
       "      <td>margin_Y_neg_3</td>\n",
       "      <td>-0.000029</td>\n",
       "    </tr>\n",
       "    <tr>\n",
       "      <th>19</th>\n",
       "      <td>margin_3yr_avg</td>\n",
       "      <td>0.000045</td>\n",
       "    </tr>\n",
       "    <tr>\n",
       "      <th>20</th>\n",
       "      <td>log_margin_Y_neg_1</td>\n",
       "      <td>-0.001286</td>\n",
       "    </tr>\n",
       "    <tr>\n",
       "      <th>21</th>\n",
       "      <td>log_margin_Y_neg_2</td>\n",
       "      <td>0.012118</td>\n",
       "    </tr>\n",
       "    <tr>\n",
       "      <th>22</th>\n",
       "      <td>log_margin_Y_neg_3</td>\n",
       "      <td>-0.000157</td>\n",
       "    </tr>\n",
       "    <tr>\n",
       "      <th>23</th>\n",
       "      <td>log_margin_3yr_avg</td>\n",
       "      <td>-0.101014</td>\n",
       "    </tr>\n",
       "    <tr>\n",
       "      <th>24</th>\n",
       "      <td>tier_prev_xxx</td>\n",
       "      <td>0.128721</td>\n",
       "    </tr>\n",
       "  </tbody>\n",
       "</table>\n",
       "</div>"
      ],
      "text/plain": [
       "                           0         0\n",
       "0                  emailable -0.059250\n",
       "1     scheduled_purchase_flg -3.562582\n",
       "2    months_since_last_trans  0.418122\n",
       "3   months_since_first_trans -0.004316\n",
       "4         purch_avg_interval  0.005266\n",
       "5              mail_cnt_36mo -0.010414\n",
       "6            call_in_mo_36mo -0.001213\n",
       "7           call_out_mo_36mo -0.043681\n",
       "8         log_order_cnt_36mo -0.051082\n",
       "9         log_purch_amt_36mo -0.031643\n",
       "10        log_purch_amt_life -0.005135\n",
       "11        log_purch_avg_36mo -0.025195\n",
       "12        log_purch_cnt_life -0.146015\n",
       "13         log_resp_cnt_36mo -0.070148\n",
       "14        perc_purch_ck_36mo -0.877994\n",
       "15        perc_purch_et_36mo  0.086901\n",
       "16            margin_Y_neg_1 -0.000076\n",
       "17            margin_Y_neg_2  0.000018\n",
       "18            margin_Y_neg_3 -0.000029\n",
       "19            margin_3yr_avg  0.000045\n",
       "20        log_margin_Y_neg_1 -0.001286\n",
       "21        log_margin_Y_neg_2  0.012118\n",
       "22        log_margin_Y_neg_3 -0.000157\n",
       "23        log_margin_3yr_avg -0.101014\n",
       "24             tier_prev_xxx  0.128721"
      ]
     },
     "execution_count": 10,
     "metadata": {},
     "output_type": "execute_result"
    }
   ],
   "source": [
    "print(\" \") \n",
    "print(\"Coefficients for selected variables\")\n",
    "coefficients_match.head(40)"
   ]
  },
  {
   "cell_type": "markdown",
   "metadata": {},
   "source": [
    "## Need to introduce variable reduction that addresses multicolinearity:"
   ]
  },
  {
   "cell_type": "code",
   "execution_count": 11,
   "metadata": {},
   "outputs": [
    {
     "data": {
      "text/plain": [
       "(51368, 25)"
      ]
     },
     "execution_count": 11,
     "metadata": {},
     "output_type": "execute_result"
    }
   ],
   "source": [
    "x_train_selected_df.shape"
   ]
  },
  {
   "cell_type": "code",
   "execution_count": 23,
   "metadata": {},
   "outputs": [
    {
     "data": {
      "text/plain": [
       "(51368, 15)"
      ]
     },
     "execution_count": 23,
     "metadata": {},
     "output_type": "execute_result"
    }
   ],
   "source": [
    "from statsmodels.stats.outliers_influence import variance_inflation_factor    \n",
    "\n",
    "def calculate_vif_(X, thresh=10):\n",
    "    cols = X.columns\n",
    "    variables = np.arange(X.shape[1])\n",
    "    dropped=True\n",
    "    while dropped:\n",
    "        dropped=False\n",
    "        c = X[cols[variables]].values\n",
    "        vif = [variance_inflation_factor(c, ix) for ix in np.arange(c.shape[1])]\n",
    "        maxloc = vif.index(max(vif))\n",
    "    if max(vif) > thresh:\n",
    "        print('dropping \\'' + X[cols[variables]].columns[maxloc] + '\\' at index: ' + str(maxloc))\n",
    "        variables = np.delete(variables, maxloc)\n",
    "        dropped=True\n",
    "        \n",
    "        print('Remaining variables:')\n",
    "        print(X.columns[variables])\n",
    "    return X.iloc[:, variables]\n",
    "\n",
    "x_train_selected_df=calculate_vif_(x_train_selected_df, 10.0)\n",
    "        \n",
    "x_train_selected_df.shape"
   ]
  },
  {
   "cell_type": "markdown",
   "metadata": {},
   "source": [
    "## Run the step above, repeatedly, until no more variables are dropped."
   ]
  },
  {
   "cell_type": "code",
   "execution_count": 24,
   "metadata": {},
   "outputs": [
    {
     "name": "stdout",
     "output_type": "stream",
     "text": [
      "Remaining variables in test set:\n",
      "Index(['emailable', 'scheduled_purchase_flg', 'months_since_last_trans',\n",
      "       'months_since_first_trans', 'purch_avg_interval', 'mail_cnt_36mo',\n",
      "       'call_in_mo_36mo', 'call_out_mo_36mo', 'log_order_cnt_36mo',\n",
      "       'log_resp_cnt_36mo', 'perc_purch_ck_36mo', 'perc_purch_et_36mo',\n",
      "       'margin_Y_neg_2', 'margin_Y_neg_3', 'tier_prev_xxx'],\n",
      "      dtype='object')\n"
     ]
    },
    {
     "data": {
      "text/plain": [
       "(22016, 15)"
      ]
     },
     "execution_count": 24,
     "metadata": {},
     "output_type": "execute_result"
    }
   ],
   "source": [
    "\"\"\" reducing the test set to have the same columns as the training set \"\"\"\n",
    "\n",
    "x_test_selected_df=x_test_selected_df[x_train_selected_df.columns]\n",
    "print('Remaining variables in test set:')\n",
    "print(x_test_selected_df.columns)\n",
    "        \n",
    "x_test_selected_df.shape"
   ]
  },
  {
   "cell_type": "markdown",
   "metadata": {},
   "source": [
    "## Using the statsmodels package to see \"friendlier\" looking Logistic output:"
   ]
  },
  {
   "cell_type": "code",
   "execution_count": 25,
   "metadata": {},
   "outputs": [
    {
     "name": "stdout",
     "output_type": "stream",
     "text": [
      "Optimization terminated successfully.\n",
      "         Current function value: 0.320490\n",
      "         Iterations 9\n",
      " \n",
      "Logistic model with selected variables\n",
      " \n",
      "                             Results: Logit\n",
      "=========================================================================\n",
      "Model:                Logit                 Pseudo R-squared:  0.443     \n",
      "Dependent Variable:   churn_year_plus1_ind  AIC:               32957.8920\n",
      "Date:                 2018-10-07 15:11      BIC:               33099.4403\n",
      "No. Observations:     51368                 Log-Likelihood:    -16463.   \n",
      "Df Model:             15                    LL-Null:           -29553.   \n",
      "Df Residuals:         51352                 LLR p-value:       0.0000    \n",
      "Converged:            1.0000                Scale:             1.0000    \n",
      "No. Iterations:       9.0000                                             \n",
      "-------------------------------------------------------------------------\n",
      "                          Coef.  Std.Err.    z     P>|z|   [0.025  0.975]\n",
      "-------------------------------------------------------------------------\n",
      "const                    -0.8870   0.0692 -12.8111 0.0000 -1.0227 -0.7513\n",
      "emailable                -0.1020   0.0296  -3.4421 0.0006 -0.1600 -0.0439\n",
      "scheduled_purchase_flg   -4.6614   0.1222 -38.1549 0.0000 -4.9009 -4.4220\n",
      "months_since_last_trans   0.4315   0.0052  83.0699 0.0000  0.4213  0.4417\n",
      "months_since_first_trans -0.0053   0.0003 -17.2070 0.0000 -0.0059 -0.0047\n",
      "purch_avg_interval        0.0064   0.0014   4.6265 0.0000  0.0037  0.0091\n",
      "mail_cnt_36mo            -0.0107   0.0017  -6.1864 0.0000 -0.0141 -0.0073\n",
      "call_in_mo_36mo          -0.0003   0.0003  -0.7311 0.4647 -0.0009  0.0004\n",
      "call_out_mo_36mo         -0.0314   0.0083  -3.7760 0.0002 -0.0477 -0.0151\n",
      "log_order_cnt_36mo       -0.3594   0.0620  -5.7995 0.0000 -0.4808 -0.2379\n",
      "log_resp_cnt_36mo        -0.1901   0.0476  -3.9979 0.0001 -0.2833 -0.0969\n",
      "perc_purch_ck_36mo       -0.9225   0.0412 -22.3678 0.0000 -1.0033 -0.8416\n",
      "perc_purch_et_36mo        0.5261   0.0690   7.6269 0.0000  0.3909  0.6612\n",
      "margin_Y_neg_2            0.0000   0.0000   1.0734 0.2831 -0.0000  0.0000\n",
      "margin_Y_neg_3           -0.0000   0.0000  -1.6177 0.1057 -0.0001  0.0000\n",
      "tier_prev_xxx             0.2589   0.0366   7.0803 0.0000  0.1872  0.3305\n",
      "=========================================================================\n",
      "\n",
      "AIC:  32957.89199699672\n",
      "BIC:  33099.4403280283\n"
     ]
    }
   ],
   "source": [
    "\"\"\" for the statsmodels, need to add a constant to fit intercept \"\"\"\n",
    "\n",
    "x_train_selected_df = sm.add_constant(x_train_selected_df, has_constant='add')\n",
    "x_test_selected_df  = sm.add_constant(x_test_selected_df, has_constant='add')\n",
    "\n",
    "\"\"\" modeling with selected variables from steps above \"\"\"\n",
    "\n",
    "model = sm.Logit(y_train_df, x_train_selected_df)\n",
    "result = model.fit(maxiter=100)\n",
    "\n",
    "print(\" \") \n",
    "print(\"Logistic model with selected variables\")\n",
    "print(\" \") \n",
    "print(result.summary2())\n",
    "print('AIC: ', result.aic)\n",
    "print('BIC: ', result.bic)"
   ]
  },
  {
   "cell_type": "markdown",
   "metadata": {},
   "source": [
    "## Using the statsmodels Logit model to score the data and evaluate goodness-of-fit:"
   ]
  },
  {
   "cell_type": "code",
   "execution_count": 26,
   "metadata": {},
   "outputs": [
    {
     "name": "stdout",
     "output_type": "stream",
     "text": [
      "AROC train:  0.9173064170238517\n",
      "AROC test:  0.9194730195228641\n",
      " \n",
      "MSE train: 0.10082047636406873\n",
      "MSE test: 0.09931608588160566\n",
      " \n",
      "testing that the joining process works. if so, these MSE should match the ones above.\n",
      "mean squared error train: 0.10082047636406931\n",
      "mean squared error testn: 0.09931608588160626\n"
     ]
    },
    {
     "data": {
      "text/plain": [
       "<matplotlib.axes._subplots.AxesSubplot at 0x1f744eb57b8>"
      ]
     },
     "execution_count": 26,
     "metadata": {},
     "output_type": "execute_result"
    },
    {
     "data": {
      "image/png": "[encoded data removed]",
      "text/plain": [
       "<Figure size 1080x1080 with 1 Axes>"
      ]
     },
     "metadata": {},
     "output_type": "display_data"
    }
   ],
   "source": [
    "\"\"\" predicted values using the model \"\"\"\n",
    "\"\"\" using numpy copy to store result as an array \"\"\"\n",
    "\"\"\" manually adding a column header \"\"\"\n",
    "predict_train = pd.DataFrame(np.copy(result.predict(x_train_selected_df)), columns=[\"P_churn_year_plus1_ind\"])\n",
    "predict_test = pd.DataFrame(np.copy(result.predict(x_test_selected_df)), columns=[\"P_churn_year_plus1_ind\"])\n",
    "\n",
    "print ('AROC train: ', metrics.roc_auc_score(y_train_df, predict_train))\n",
    "print ('AROC test: ', metrics.roc_auc_score(y_test_df, predict_test))\n",
    "\n",
    "\"\"\" note that the index for the predicted values vector \"\"\"\n",
    "\"\"\" is reset, and thus complicates a join back with the original \"\"\"\n",
    "\"\"\" thus, reset the index on the original data, then join with predicted \"\"\"\n",
    "\"\"\" WARNING: you have to do the same, to join back with dataframe of regressors \"\"\"\n",
    "y_train_df = y_train_df.reset_index(drop=True)\n",
    "y_test_df = y_test_df.reset_index(drop=True)\n",
    "\n",
    "\"\"\" joining predicted and actuals \"\"\"\n",
    "\"\"\" NOTE:  for reference, for now...to be used more later to create complete \"\"\"\n",
    "\"\"\"     dataframe with all obs and inputs and outputs \"\"\"\n",
    "train_accounts = train_acct_IDs_df.reset_index(drop=True)\n",
    "pred_v_actual_train = y_train_df.join(predict_train)\n",
    "pred_v_actual_train = pred_v_actual_train.join(train_accounts)\n",
    "\n",
    "test_accounts = test_acct_IDs_df.reset_index(drop=True)\n",
    "pred_v_actual_test = y_test_df.join(predict_test)\n",
    "pred_v_actual_test = pred_v_actual_test.join(test_accounts)\n",
    "\n",
    "print(\" \") \n",
    "print(\"MSE train:\", mean_squared_error(y_train_df, predict_train))\n",
    "print(\"MSE test:\", mean_squared_error(y_test_df, predict_test))\n",
    "\n",
    "print(\" \") \n",
    "print(\"testing that the joining process works. if so, these MSE should match the ones above.\")\n",
    "print(\"mean squared error train:\" , (np.mean((pred_v_actual_train['churn_year_plus1_ind']-pred_v_actual_train['P_churn_year_plus1_ind'])**2)))\n",
    "print(\"mean squared error testn:\" , (np.mean((pred_v_actual_test['churn_year_plus1_ind']-pred_v_actual_test['P_churn_year_plus1_ind'])**2)))\n",
    "\n",
    "pred_v_actual_test.boxplot(column='P_churn_year_plus1_ind', by='churn_year_plus1_ind',figsize=(15,15))"
   ]
  },
  {
   "cell_type": "markdown",
   "metadata": {},
   "source": [
    "## Now to try a more advanced Machine Learning algorithm to see if we can get a better model:"
   ]
  },
  {
   "cell_type": "code",
   "execution_count": 27,
   "metadata": {},
   "outputs": [
    {
     "name": "stdout",
     "output_type": "stream",
     "text": [
      "GB overall accuracy: 0.878406613372093\n",
      "AROC train:  0.9402891855955475\n",
      "AROC test:  0.9364216996081296\n",
      " \n",
      "MSE train: 0.08477205537949323\n",
      "MSE test: 0.08781895887747418\n",
      " \n",
      "testing that the joining process works. if so, these MSE should match the ones above.\n",
      "mean squared error train: 0.08477205537949405\n",
      "mean squared error test: 0.0878189588774741\n"
     ]
    },
    {
     "data": {
      "text/plain": [
       "Text(0,0.5,'AROC')"
      ]
     },
     "execution_count": 27,
     "metadata": {},
     "output_type": "execute_result"
    },
    {
     "data": {
      "image/png": "[encoded data removed]",
      "text/plain": [
       "<Figure size 1080x1080 with 1 Axes>"
      ]
     },
     "metadata": {},
     "output_type": "display_data"
    },
    {
     "data": {
      "image/png": "[encoded data removed]",
      "text/plain": [
       "<Figure size 1080x1080 with 1 Axes>"
      ]
     },
     "metadata": {},
     "output_type": "display_data"
    }
   ],
   "source": [
    "\"\"\" Gradient Boosting \"\"\"\n",
    "params = {'n_estimators': 500, 'min_samples_split': 2,  'max_depth': 5, 'learning_rate': 0.01}\n",
    "model2 = GradientBoostingClassifier(**params)\n",
    "\n",
    "\"\"\" had to switch the order of X and Y for the fit to work with GradientBoosting \"\"\"\n",
    "result = model2.fit(x_train_selected_df, y_train_array)\n",
    "\n",
    "\"\"\" returns overall accuracy\"\"\"\n",
    "accuracy = model2.score(x_test_selected_df, y_test_df)\n",
    "print(\"GB overall accuracy:\", accuracy)\n",
    "\n",
    "\"\"\" predicted values using the model \"\"\"\n",
    "\"\"\" using numpy copy to store result as an array \"\"\"\n",
    "\"\"\" manually adding a column header \"\"\"\n",
    "predict_train = pd.DataFrame(np.copy(model2.predict_proba(x_train_selected_df)[:, 1]), columns=[\"P_churn_year_plus1_ind\"])\n",
    "predict_test = pd.DataFrame(np.copy(model2.predict_proba(x_test_selected_df)[:, 1]), columns=[\"P_churn_year_plus1_ind\"])\n",
    "\n",
    "print ('AROC train: ', metrics.roc_auc_score(y_train_df, predict_train))\n",
    "print ('AROC test: ', metrics.roc_auc_score(y_test_df, predict_test))\n",
    "\n",
    "\"\"\" note that the index for the predicted values vector \"\"\"\n",
    "\"\"\" is reset, and thus complicates a join back with the original \"\"\"\n",
    "\"\"\" thus, reset the index on the original data, then join with predicted \"\"\"\n",
    "\"\"\" WARNING: you have to do the same, to join back with dataframe of regressors \"\"\"\n",
    "y_train_df = y_train_df.reset_index(drop=True)\n",
    "y_test_df = y_test_df.reset_index(drop=True)\n",
    "\n",
    "train_accounts = train_acct_IDs_df.reset_index(drop=True)\n",
    "pred_v_actual_train = y_train_df.join(predict_train)\n",
    "pred_v_actual_train = pred_v_actual_train.join(train_accounts)\n",
    "\n",
    "\n",
    "test_accounts = test_acct_IDs_df.reset_index(drop=True)\n",
    "pred_v_actual_test = y_test_df.join(predict_test)\n",
    "pred_v_actual_test = pred_v_actual_test.join(test_accounts)\n",
    "\n",
    "print(\" \") \n",
    "print(\"MSE train:\", mean_squared_error(y_train_df, predict_train))\n",
    "print(\"MSE test:\", mean_squared_error(y_test_df, predict_test))\n",
    "\n",
    "print(\" \") \n",
    "print(\"testing that the joining process works. if so, these MSE should match the ones above.\")\n",
    "print(\"mean squared error train:\" , (np.mean((pred_v_actual_train['churn_year_plus1_ind']-pred_v_actual_train['P_churn_year_plus1_ind'])**2)))\n",
    "print(\"mean squared error test:\" , (np.mean((pred_v_actual_test['churn_year_plus1_ind']-pred_v_actual_test['P_churn_year_plus1_ind'])**2)))\n",
    "\n",
    "\n",
    "pred_v_actual_test.boxplot(column='P_churn_year_plus1_ind', by='churn_year_plus1_ind',figsize=(15,15))\n",
    "\n",
    "\"\"\" plotting AROC with each iteration of the Gradient Boosting algorithm \"\"\"\n",
    "\n",
    "\"\"\" converting Y dataframes into arrays as needed for logic below \"\"\"\n",
    "y_traint_array = y_train_df.values\n",
    "y_test_array = y_test_df.values\n",
    "\n",
    "test_AROC  = np.zeros((params['n_estimators'],), dtype=np.float64)\n",
    "train_AROC = np.zeros((params['n_estimators'],), dtype=np.float64)\n",
    "\n",
    "for i, y_pred in enumerate(model2.staged_predict_proba(x_test_selected_df)):\n",
    "    test_AROC[i] = metrics.roc_auc_score(y_test_array, y_pred[:, 1])\n",
    "\n",
    "for i, y_pred in enumerate(model2.staged_predict_proba(x_train_selected_df)):\n",
    "    train_AROC[i] = metrics.roc_auc_score(y_train_array, y_pred[:, 1])\n",
    "\n",
    "plt.figure(figsize=(15,15))\n",
    "plt.subplot(1, 2, 1)\n",
    "plt.title('AROC by iteration')\n",
    "plt.plot(np.arange(params['n_estimators']) + 1, train_AROC, 'b-',\n",
    "         label='Training Set AROC')\n",
    "plt.plot(np.arange(params['n_estimators']) + 1, test_AROC, 'r-',\n",
    "         label='Test Set AROC')\n",
    "plt.legend(loc='upper right')\n",
    "plt.xlabel('Boosting Iterations')\n",
    "plt.ylabel('AROC')\n"
   ]
  },
  {
   "cell_type": "markdown",
   "metadata": {},
   "source": [
    "## Feature Importance for the Gradient Boosting Model:"
   ]
  },
  {
   "cell_type": "code",
   "execution_count": 28,
   "metadata": {},
   "outputs": [
    {
     "data": {
      "image/png": "[encoded data removed]",
      "text/plain": [
       "<Figure size 3600x3600 with 1 Axes>"
      ]
     },
     "metadata": {},
     "output_type": "display_data"
    }
   ],
   "source": [
    "feature_importance = model2.feature_importances_\n",
    "\"\"\" make importances relative to max importance \"\"\"\n",
    "feature_importance = 100.0 * (feature_importance / feature_importance.max())\n",
    "sorted_idx = np.argsort(feature_importance)\n",
    "pos = np.arange(sorted_idx.shape[0]) + .5\n",
    "plt.figure(figsize=(50,50))\n",
    "plt.subplot(1, 2, 2)\n",
    "plt.barh(pos, feature_importance[sorted_idx], align='center')\n",
    "plt.yticks(pos, x_train_selected_df.columns[sorted_idx])\n",
    "plt.xlabel('Relative Importance')\n",
    "plt.title('Variable Importance')\n",
    "plt.show()"
   ]
  },
  {
   "cell_type": "markdown",
   "metadata": {},
   "source": [
    "## Appending the train and test sets, and keeping the acct_IDs and predicted churn probabilities"
   ]
  },
  {
   "cell_type": "code",
   "execution_count": 29,
   "metadata": {},
   "outputs": [],
   "source": [
    "\"\"\" append together train and test predicted values, keeping only acct ID and predicted values \"\"\"\n",
    "\n",
    "pred_v_actual_train=pred_v_actual_train.append(pred_v_actual_test, ignore_index=True)\n",
    "\n",
    "pred_v_actual_train = pred_v_actual_train.drop(['churn_year_plus1_ind'\n",
    "                             ],axis=1)\n",
    "\n",
    "\"\"\" and then save predicted values by acct ID to csv \"\"\"\n",
    "\n",
    "pred_v_actual_train.to_csv('E:\\OSU_CLV_Course\\All_NEW_Fall_2018\\Lab\\churn_scores.csv',index=False)\n",
    "pred_v_actual_train.shape"
   ]
  },
  {
   "cell_type": "markdown",
   "metadata": {},
   "source": [
    "## (back to lecture mode)"
   ]
  }
 ],
 "metadata": {
  "kernelspec": {
   "display_name": "Python 3",
   "language": "python",
   "name": "python3"
  },
  "language_info": {
   "codemirror_mode": {
    "name": "ipython",
    "version": 3
   },
   "file_extension": ".py",
   "mimetype": "text/x-python",
   "name": "python",
   "nbconvert_exporter": "python",
   "pygments_lexer": "ipython3",
   "version": "3.6.5"
  }
 },
 "nbformat": 4,
 "nbformat_minor": 2
}
